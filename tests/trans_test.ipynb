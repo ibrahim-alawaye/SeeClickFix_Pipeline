{
 "cells": [
  {
   "cell_type": "code",
   "execution_count": 1,
   "metadata": {},
   "outputs": [],
   "source": [
    "from pyspark.sql import SparkSession"
   ]
  },
  {
   "cell_type": "code",
   "execution_count": 2,
   "metadata": {},
   "outputs": [
    {
     "name": "stderr",
     "output_type": "stream",
     "text": [
      "24/08/30 22:54:51 WARN Utils: Your hostname, codespaces-ef2dca resolves to a loopback address: 127.0.0.1; using 10.0.1.169 instead (on interface eth0)\n",
      "24/08/30 22:54:51 WARN Utils: Set SPARK_LOCAL_IP if you need to bind to another address\n",
      "Setting default log level to \"WARN\".\n",
      "To adjust logging level use sc.setLogLevel(newLevel). For SparkR, use setLogLevel(newLevel).\n",
      "24/08/30 22:54:52 WARN NativeCodeLoader: Unable to load native-hadoop library for your platform... using builtin-java classes where applicable\n"
     ]
    }
   ],
   "source": [
    "spark = SparkSession.builder \\\n",
    ".appName(\"Test Transformation Script\") \\\n",
    ".getOrCreate()\n"
   ]
  },
  {
   "cell_type": "code",
   "execution_count": 3,
   "metadata": {},
   "outputs": [
    {
     "name": "stdout",
     "output_type": "stream",
     "text": [
      "<pyspark.sql.session.SparkSession object at 0x7aea55deffb0>\n"
     ]
    }
   ],
   "source": [
    "print(spark)"
   ]
  },
  {
   "cell_type": "code",
   "execution_count": 4,
   "metadata": {},
   "outputs": [
    {
     "name": "stderr",
     "output_type": "stream",
     "text": [
      "                                                                                \r"
     ]
    }
   ],
   "source": [
    "df = spark.read.json(\"issues.json\")"
   ]
  },
  {
   "cell_type": "code",
   "execution_count": 5,
   "metadata": {},
   "outputs": [
    {
     "name": "stdout",
     "output_type": "stream",
     "text": [
      "root\n",
      " |-- acknowledged_at: string (nullable = true)\n",
      " |-- address: string (nullable = true)\n",
      " |-- closed_at: string (nullable = true)\n",
      " |-- comment_url: string (nullable = true)\n",
      " |-- created_at: string (nullable = true)\n",
      " |-- description: string (nullable = true)\n",
      " |-- flag_url: string (nullable = true)\n",
      " |-- html_url: string (nullable = true)\n",
      " |-- id: long (nullable = true)\n",
      " |-- lat: double (nullable = true)\n",
      " |-- lng: double (nullable = true)\n",
      " |-- media: struct (nullable = true)\n",
      " |    |-- image_full: string (nullable = true)\n",
      " |    |-- image_square_100x100: string (nullable = true)\n",
      " |    |-- representative_image_url: string (nullable = true)\n",
      " |    |-- video_url: string (nullable = true)\n",
      " |-- point: struct (nullable = true)\n",
      " |    |-- coordinates: array (nullable = true)\n",
      " |    |    |-- element: double (containsNull = true)\n",
      " |    |-- type: string (nullable = true)\n",
      " |-- private_visibility: boolean (nullable = true)\n",
      " |-- rating: long (nullable = true)\n",
      " |-- reopened_at: string (nullable = true)\n",
      " |-- reporter: struct (nullable = true)\n",
      " |    |-- avatar: struct (nullable = true)\n",
      " |    |    |-- full: string (nullable = true)\n",
      " |    |    |-- square_100x100: string (nullable = true)\n",
      " |    |-- civic_points: long (nullable = true)\n",
      " |    |-- html_url: string (nullable = true)\n",
      " |    |-- id: long (nullable = true)\n",
      " |    |-- name: string (nullable = true)\n",
      " |    |-- role: string (nullable = true)\n",
      " |    |-- witty_title: string (nullable = true)\n",
      " |-- request_type: struct (nullable = true)\n",
      " |    |-- id: long (nullable = true)\n",
      " |    |-- organization: string (nullable = true)\n",
      " |    |-- related_issues_url: string (nullable = true)\n",
      " |    |-- title: string (nullable = true)\n",
      " |    |-- url: string (nullable = true)\n",
      " |-- shortened_url: string (nullable = true)\n",
      " |-- status: string (nullable = true)\n",
      " |-- summary: string (nullable = true)\n",
      " |-- transitions: struct (nullable = true)\n",
      " |    |-- close_url: string (nullable = true)\n",
      " |-- updated_at: string (nullable = true)\n",
      " |-- url: string (nullable = true)\n",
      "\n"
     ]
    }
   ],
   "source": [
    "df.printSchema()\n",
    "from pyspark.sql.functions import col, to_timestamp"
   ]
  },
  {
   "cell_type": "code",
   "execution_count": 6,
   "metadata": {},
   "outputs": [],
   "source": [
    "def select_col(df):\n",
    "    selected_df = df.select(\n",
    "        col(\"id\"),\n",
    "        col(\"reporter.name\"),\n",
    "        col(\"created_at\"),\n",
    "        col(\"updated_at\"),\n",
    "        col(\"status\"),\n",
    "        col(\"summary\"),\n",
    "        col(\"description\"),\n",
    "        col(\"lat\"),\n",
    "        col(\"lng\"),\n",
    "        col(\"address\"),\n",
    "        col(\"url\"),\n",
    "        col(\"reporter.role\"),\n",
    "        col(\"request_type.organization\"),\n",
    "        col(\"request_type.title\"),\n",
    "        col(\"request_type.url\"),\n",
    "        col(\"private_visibility\"),\n",
    "        col(\"rating\")\n",
    "    )\n",
    "    \n",
    "    return selected_df"
   ]
  },
  {
   "cell_type": "code",
   "execution_count": 7,
   "metadata": {},
   "outputs": [
    {
     "name": "stdout",
     "output_type": "stream",
     "text": [
      "root\n",
      " |-- id: long (nullable = true)\n",
      " |-- name: string (nullable = true)\n",
      " |-- created_at: string (nullable = true)\n",
      " |-- updated_at: string (nullable = true)\n",
      " |-- status: string (nullable = true)\n",
      " |-- summary: string (nullable = true)\n",
      " |-- description: string (nullable = true)\n",
      " |-- lat: double (nullable = true)\n",
      " |-- lng: double (nullable = true)\n",
      " |-- address: string (nullable = true)\n",
      " |-- url: string (nullable = true)\n",
      " |-- role: string (nullable = true)\n",
      " |-- organization: string (nullable = true)\n",
      " |-- title: string (nullable = true)\n",
      " |-- url: string (nullable = true)\n",
      " |-- private_visibility: boolean (nullable = true)\n",
      " |-- rating: long (nullable = true)\n",
      "\n"
     ]
    }
   ],
   "source": [
    "df = select_col(df)\n",
    "df.printSchema()"
   ]
  },
  {
   "cell_type": "code",
   "execution_count": 8,
   "metadata": {},
   "outputs": [
    {
     "name": "stdout",
     "output_type": "stream",
     "text": [
      "root\n",
      " |-- id: long (nullable = true)\n",
      " |-- name: string (nullable = true)\n",
      " |-- created_at: string (nullable = true)\n",
      " |-- updated_at: string (nullable = true)\n",
      " |-- status: string (nullable = true)\n",
      " |-- summary: string (nullable = true)\n",
      " |-- description: string (nullable = true)\n",
      " |-- lat: double (nullable = true)\n",
      " |-- lng: double (nullable = true)\n",
      " |-- address: string (nullable = true)\n",
      " |-- url: string (nullable = true)\n",
      " |-- role: string (nullable = true)\n",
      " |-- organization: string (nullable = true)\n",
      " |-- title: string (nullable = true)\n",
      " |-- url: string (nullable = true)\n",
      " |-- private_visibility: boolean (nullable = true)\n",
      " |-- rating: long (nullable = true)\n",
      "\n"
     ]
    }
   ],
   "source": [
    "df.printSchema()\n",
    "from pyspark.sql import functions as F\n",
    "from pyspark.sql import DataFrame"
   ]
  },
  {
   "cell_type": "code",
   "execution_count": 9,
   "metadata": {},
   "outputs": [],
   "source": [
    "def rename_columns(df: DataFrame) -> DataFrame:\n",
    "\n",
    "    r_dict = {\n",
    "        \"id\": \"id\",\n",
    "        \"name\": \"reporter_name\",\n",
    "        \"created_at\": \"issue_created_at\",\n",
    "        \"updated_at\": \"issue_updated_at\",\n",
    "        \"status\": \"issue_status\",\n",
    "        \"summary\": \"issue_summary\",\n",
    "        \"description\": \"issue_description\",\n",
    "        \"lat\": \"latitude\",\n",
    "        \"lng\": \"longitude\",\n",
    "        \"address\": \"issue_address\",\n",
    "        \"url\": \"url\",\n",
    "        \"role\": \"reporter_role\",\n",
    "        \"organization\": \"organization\",\n",
    "        \"title\": \"title\",\n",
    "        \"private_visibility\": \"is_private\",\n",
    "        \"rating\": \"rating\"\n",
    "    }\n",
    "\n",
    "    for old_name, new_name in r_dict.items():\n",
    "        df = df.withColumnRenamed(old_name, new_name)\n",
    "    \n",
    "    return df"
   ]
  },
  {
   "cell_type": "code",
   "execution_count": 10,
   "metadata": {},
   "outputs": [],
   "source": [
    "df1 = rename_columns(df)"
   ]
  },
  {
   "cell_type": "code",
   "execution_count": 11,
   "metadata": {},
   "outputs": [
    {
     "name": "stdout",
     "output_type": "stream",
     "text": [
      "root\n",
      " |-- id: long (nullable = true)\n",
      " |-- reporter_name: string (nullable = true)\n",
      " |-- issue_created_at: string (nullable = true)\n",
      " |-- issue_updated_at: string (nullable = true)\n",
      " |-- issue_status: string (nullable = true)\n",
      " |-- issue_summary: string (nullable = true)\n",
      " |-- issue_description: string (nullable = true)\n",
      " |-- latitude: double (nullable = true)\n",
      " |-- longitude: double (nullable = true)\n",
      " |-- issue_address: string (nullable = true)\n",
      " |-- url: string (nullable = true)\n",
      " |-- reporter_role: string (nullable = true)\n",
      " |-- organization: string (nullable = true)\n",
      " |-- title: string (nullable = true)\n",
      " |-- url: string (nullable = true)\n",
      " |-- is_private: boolean (nullable = true)\n",
      " |-- rating: long (nullable = true)\n",
      "\n"
     ]
    }
   ],
   "source": [
    "df1.printSchema()"
   ]
  },
  {
   "cell_type": "code",
   "execution_count": 12,
   "metadata": {},
   "outputs": [
    {
     "name": "stdout",
     "output_type": "stream",
     "text": [
      "+--------+-------------+--------------------+--------------------+------------+--------------------+--------------------+----------------+-----------------+--------------------+--------------------+-----------------+--------------------+--------------------+--------------------+----------+------+\n",
      "|      id|reporter_name|    issue_created_at|    issue_updated_at|issue_status|       issue_summary|   issue_description|        latitude|        longitude|       issue_address|                 url|    reporter_role|        organization|               title|                 url|is_private|rating|\n",
      "+--------+-------------+--------------------+--------------------+------------+--------------------+--------------------+----------------+-----------------+--------------------+--------------------+-----------------+--------------------+--------------------+--------------------+----------+------+\n",
      "|17398644|      311_MDP|2024-08-29T11:56:...|2024-08-29T11:56:...|        Open|Inoperable Vehicl...|citizen states th...|33.4828359940456|-86.8150319842692|604 22nd Ave S Bi...|https://seeclickf...|Verified Official|Birmingham Police...|Inoperable Vehicl...|https://seeclickf...|     false|     1|\n",
      "+--------+-------------+--------------------+--------------------+------------+--------------------+--------------------+----------------+-----------------+--------------------+--------------------+-----------------+--------------------+--------------------+--------------------+----------+------+\n",
      "only showing top 1 row\n",
      "\n"
     ]
    }
   ],
   "source": [
    "df1.show(1)"
   ]
  },
  {
   "cell_type": "code",
   "execution_count": 13,
   "metadata": {},
   "outputs": [],
   "source": [
    "from pyspark.sql.functions import col, to_timestamp, to_date\n",
    "from pyspark.sql.types import LongType, StringType, DoubleType, BooleanType\n",
    "\n",
    "def convert_data_types(df: DataFrame) -> DataFrame:\n",
    "    # Convert to appropriate data types\n",
    "    df = df.withColumn(\"created_at\", to_timestamp(col(\"created_at\"))) \\\n",
    "           .withColumn(\"updated_at\", to_timestamp(col(\"updated_at\")))\n",
    "\n",
    "    return df\n",
    "\n"
   ]
  },
  {
   "cell_type": "code",
   "execution_count": 14,
   "metadata": {},
   "outputs": [
    {
     "name": "stdout",
     "output_type": "stream",
     "text": [
      "root\n",
      " |-- id: long (nullable = true)\n",
      " |-- reporter_name: string (nullable = true)\n",
      " |-- issue_created_at: string (nullable = true)\n",
      " |-- issue_updated_at: string (nullable = true)\n",
      " |-- issue_status: string (nullable = true)\n",
      " |-- issue_summary: string (nullable = true)\n",
      " |-- issue_description: string (nullable = true)\n",
      " |-- latitude: double (nullable = true)\n",
      " |-- longitude: double (nullable = true)\n",
      " |-- issue_url: string (nullable = true)\n",
      " |-- url: string (nullable = true)\n",
      " |-- reporter_role: string (nullable = true)\n",
      " |-- organization: string (nullable = true)\n",
      " |-- title: string (nullable = true)\n",
      " |-- url: string (nullable = true)\n",
      " |-- is_private: boolean (nullable = true)\n",
      " |-- rating: long (nullable = true)\n",
      "\n"
     ]
    },
    {
     "ename": "AnalysisException",
     "evalue": "[UNRESOLVED_COLUMN.WITH_SUGGESTION] A column or function parameter with name `created_at` cannot be resolved. Did you mean one of the following? [`rating`, `issue_created_at`, `id`, `latitude`, `reporter_name`].;\n'Project [id#79L, reporter_name#97, issue_created_at#115, issue_updated_at#133, issue_status#151, issue_summary#169, issue_description#187, latitude#205, longitude#223, issue_url#451, url#259, reporter_role#278, organization#296, title#314, url#260, is_private#332, rating#350L, to_timestamp('created_at, None, TimestampType, Some(Etc/UTC), false) AS created_at#469]\n+- Project [id#79L, reporter_name#97, issue_created_at#115, issue_updated_at#133, issue_status#151, issue_summary#169, issue_description#187, latitude#205, longitude#223, issue_address#241 AS issue_url#451, url#259, reporter_role#278, organization#296, title#314, url#260, is_private#332, rating#350L]\n   +- Project [id#79L, reporter_name#97, issue_created_at#115, issue_updated_at#133, issue_status#151, issue_summary#169, issue_description#187, latitude#205, longitude#223, issue_address#241, url#259, reporter_role#278, organization#296, title#314, url#260, is_private#332, rating#22L AS rating#350L]\n      +- Project [id#79L, reporter_name#97, issue_created_at#115, issue_updated_at#133, issue_status#151, issue_summary#169, issue_description#187, latitude#205, longitude#223, issue_address#241, url#259, reporter_role#278, organization#296, title#314, url#260, private_visibility#21 AS is_private#332, rating#22L]\n         +- Project [id#79L, reporter_name#97, issue_created_at#115, issue_updated_at#133, issue_status#151, issue_summary#169, issue_description#187, latitude#205, longitude#223, issue_address#241, url#259, reporter_role#278, organization#296, title#59 AS title#314, url#260, private_visibility#21, rating#22L]\n            +- Project [id#79L, reporter_name#97, issue_created_at#115, issue_updated_at#133, issue_status#151, issue_summary#169, issue_description#187, latitude#205, longitude#223, issue_address#241, url#259, reporter_role#278, organization#58 AS organization#296, title#59, url#260, private_visibility#21, rating#22L]\n               +- Project [id#79L, reporter_name#97, issue_created_at#115, issue_updated_at#133, issue_status#151, issue_summary#169, issue_description#187, latitude#205, longitude#223, issue_address#241, url#259, role#57 AS reporter_role#278, organization#58, title#59, url#260, private_visibility#21, rating#22L]\n                  +- Project [id#79L, reporter_name#97, issue_created_at#115, issue_updated_at#133, issue_status#151, issue_summary#169, issue_description#187, latitude#205, longitude#223, issue_address#241, url#31 AS url#259, role#57, organization#58, title#59, url#60 AS url#260, private_visibility#21, rating#22L]\n                     +- Project [id#79L, reporter_name#97, issue_created_at#115, issue_updated_at#133, issue_status#151, issue_summary#169, issue_description#187, latitude#205, longitude#223, address#9 AS issue_address#241, url#31, role#57, organization#58, title#59, url#60, private_visibility#21, rating#22L]\n                        +- Project [id#79L, reporter_name#97, issue_created_at#115, issue_updated_at#133, issue_status#151, issue_summary#169, issue_description#187, latitude#205, lng#18 AS longitude#223, address#9, url#31, role#57, organization#58, title#59, url#60, private_visibility#21, rating#22L]\n                           +- Project [id#79L, reporter_name#97, issue_created_at#115, issue_updated_at#133, issue_status#151, issue_summary#169, issue_description#187, lat#17 AS latitude#205, lng#18, address#9, url#31, role#57, organization#58, title#59, url#60, private_visibility#21, rating#22L]\n                              +- Project [id#79L, reporter_name#97, issue_created_at#115, issue_updated_at#133, issue_status#151, issue_summary#169, description#13 AS issue_description#187, lat#17, lng#18, address#9, url#31, role#57, organization#58, title#59, url#60, private_visibility#21, rating#22L]\n                                 +- Project [id#79L, reporter_name#97, issue_created_at#115, issue_updated_at#133, issue_status#151, summary#28 AS issue_summary#169, description#13, lat#17, lng#18, address#9, url#31, role#57, organization#58, title#59, url#60, private_visibility#21, rating#22L]\n                                    +- Project [id#79L, reporter_name#97, issue_created_at#115, issue_updated_at#133, status#27 AS issue_status#151, summary#28, description#13, lat#17, lng#18, address#9, url#31, role#57, organization#58, title#59, url#60, private_visibility#21, rating#22L]\n                                       +- Project [id#79L, reporter_name#97, issue_created_at#115, updated_at#30 AS issue_updated_at#133, status#27, summary#28, description#13, lat#17, lng#18, address#9, url#31, role#57, organization#58, title#59, url#60, private_visibility#21, rating#22L]\n                                          +- Project [id#79L, reporter_name#97, created_at#12 AS issue_created_at#115, updated_at#30, status#27, summary#28, description#13, lat#17, lng#18, address#9, url#31, role#57, organization#58, title#59, url#60, private_visibility#21, rating#22L]\n                                             +- Project [id#79L, name#56 AS reporter_name#97, created_at#12, updated_at#30, status#27, summary#28, description#13, lat#17, lng#18, address#9, url#31, role#57, organization#58, title#59, url#60, private_visibility#21, rating#22L]\n                                                +- Project [id#16L AS id#79L, name#56, created_at#12, updated_at#30, status#27, summary#28, description#13, lat#17, lng#18, address#9, url#31, role#57, organization#58, title#59, url#60, private_visibility#21, rating#22L]\n                                                   +- Project [id#16L, reporter#24.name AS name#56, created_at#12, updated_at#30, status#27, summary#28, description#13, lat#17, lng#18, address#9, url#31, reporter#24.role AS role#57, request_type#25.organization AS organization#58, request_type#25.title AS title#59, request_type#25.url AS url#60, private_visibility#21, rating#22L]\n                                                      +- Relation [acknowledged_at#8,address#9,closed_at#10,comment_url#11,created_at#12,description#13,flag_url#14,html_url#15,id#16L,lat#17,lng#18,media#19,point#20,private_visibility#21,rating#22L,reopened_at#23,reporter#24,request_type#25,shortened_url#26,status#27,summary#28,transitions#29,updated_at#30,url#31] json\n",
     "output_type": "error",
     "traceback": [
      "\u001b[0;31m---------------------------------------------------------------------------\u001b[0m",
      "\u001b[0;31mAnalysisException\u001b[0m                         Traceback (most recent call last)",
      "Cell \u001b[0;32mIn[14], line 3\u001b[0m\n\u001b[1;32m      1\u001b[0m df2 \u001b[38;5;241m=\u001b[39m df1\u001b[38;5;241m.\u001b[39mwithColumnRenamed(df1\u001b[38;5;241m.\u001b[39mcolumns[\u001b[38;5;241m9\u001b[39m], \u001b[38;5;124m\"\u001b[39m\u001b[38;5;124missue_url\u001b[39m\u001b[38;5;124m\"\u001b[39m)\n\u001b[1;32m      2\u001b[0m df2\u001b[38;5;241m.\u001b[39mprintSchema()\n\u001b[0;32m----> 3\u001b[0m df2 \u001b[38;5;241m=\u001b[39m \u001b[43mconvert_data_types\u001b[49m\u001b[43m(\u001b[49m\u001b[43mdf2\u001b[49m\u001b[43m)\u001b[49m\n\u001b[1;32m      4\u001b[0m df2\u001b[38;5;241m.\u001b[39mshow(\u001b[38;5;241m1\u001b[39m)\n",
      "Cell \u001b[0;32mIn[13], line 6\u001b[0m, in \u001b[0;36mconvert_data_types\u001b[0;34m(df)\u001b[0m\n\u001b[1;32m      4\u001b[0m \u001b[38;5;28;01mdef\u001b[39;00m \u001b[38;5;21mconvert_data_types\u001b[39m(df: DataFrame) \u001b[38;5;241m-\u001b[39m\u001b[38;5;241m>\u001b[39m DataFrame:\n\u001b[1;32m      5\u001b[0m     \u001b[38;5;66;03m# Convert to appropriate data types\u001b[39;00m\n\u001b[0;32m----> 6\u001b[0m     df \u001b[38;5;241m=\u001b[39m \u001b[43mdf\u001b[49m\u001b[38;5;241;43m.\u001b[39;49m\u001b[43mwithColumn\u001b[49m\u001b[43m(\u001b[49m\u001b[38;5;124;43m\"\u001b[39;49m\u001b[38;5;124;43mcreated_at\u001b[39;49m\u001b[38;5;124;43m\"\u001b[39;49m\u001b[43m,\u001b[49m\u001b[43m \u001b[49m\u001b[43mto_timestamp\u001b[49m\u001b[43m(\u001b[49m\u001b[43mcol\u001b[49m\u001b[43m(\u001b[49m\u001b[38;5;124;43m\"\u001b[39;49m\u001b[38;5;124;43mcreated_at\u001b[39;49m\u001b[38;5;124;43m\"\u001b[39;49m\u001b[43m)\u001b[49m\u001b[43m)\u001b[49m\u001b[43m)\u001b[49m \\\n\u001b[1;32m      7\u001b[0m            \u001b[38;5;241m.\u001b[39mwithColumn(\u001b[38;5;124m\"\u001b[39m\u001b[38;5;124mupdated_at\u001b[39m\u001b[38;5;124m\"\u001b[39m, to_timestamp(col(\u001b[38;5;124m\"\u001b[39m\u001b[38;5;124mupdated_at\u001b[39m\u001b[38;5;124m\"\u001b[39m)))\n\u001b[1;32m      9\u001b[0m     \u001b[38;5;28;01mreturn\u001b[39;00m df\n",
      "File \u001b[0;32m/usr/local/python/3.12.1/lib/python3.12/site-packages/pyspark/sql/dataframe.py:5176\u001b[0m, in \u001b[0;36mDataFrame.withColumn\u001b[0;34m(self, colName, col)\u001b[0m\n\u001b[1;32m   5171\u001b[0m \u001b[38;5;28;01mif\u001b[39;00m \u001b[38;5;129;01mnot\u001b[39;00m \u001b[38;5;28misinstance\u001b[39m(col, Column):\n\u001b[1;32m   5172\u001b[0m     \u001b[38;5;28;01mraise\u001b[39;00m PySparkTypeError(\n\u001b[1;32m   5173\u001b[0m         error_class\u001b[38;5;241m=\u001b[39m\u001b[38;5;124m\"\u001b[39m\u001b[38;5;124mNOT_COLUMN\u001b[39m\u001b[38;5;124m\"\u001b[39m,\n\u001b[1;32m   5174\u001b[0m         message_parameters\u001b[38;5;241m=\u001b[39m{\u001b[38;5;124m\"\u001b[39m\u001b[38;5;124marg_name\u001b[39m\u001b[38;5;124m\"\u001b[39m: \u001b[38;5;124m\"\u001b[39m\u001b[38;5;124mcol\u001b[39m\u001b[38;5;124m\"\u001b[39m, \u001b[38;5;124m\"\u001b[39m\u001b[38;5;124marg_type\u001b[39m\u001b[38;5;124m\"\u001b[39m: \u001b[38;5;28mtype\u001b[39m(col)\u001b[38;5;241m.\u001b[39m\u001b[38;5;18m__name__\u001b[39m},\n\u001b[1;32m   5175\u001b[0m     )\n\u001b[0;32m-> 5176\u001b[0m \u001b[38;5;28;01mreturn\u001b[39;00m DataFrame(\u001b[38;5;28;43mself\u001b[39;49m\u001b[38;5;241;43m.\u001b[39;49m\u001b[43m_jdf\u001b[49m\u001b[38;5;241;43m.\u001b[39;49m\u001b[43mwithColumn\u001b[49m\u001b[43m(\u001b[49m\u001b[43mcolName\u001b[49m\u001b[43m,\u001b[49m\u001b[43m \u001b[49m\u001b[43mcol\u001b[49m\u001b[38;5;241;43m.\u001b[39;49m\u001b[43m_jc\u001b[49m\u001b[43m)\u001b[49m, \u001b[38;5;28mself\u001b[39m\u001b[38;5;241m.\u001b[39msparkSession)\n",
      "File \u001b[0;32m/usr/local/python/3.12.1/lib/python3.12/site-packages/py4j/java_gateway.py:1322\u001b[0m, in \u001b[0;36mJavaMember.__call__\u001b[0;34m(self, *args)\u001b[0m\n\u001b[1;32m   1316\u001b[0m command \u001b[38;5;241m=\u001b[39m proto\u001b[38;5;241m.\u001b[39mCALL_COMMAND_NAME \u001b[38;5;241m+\u001b[39m\\\n\u001b[1;32m   1317\u001b[0m     \u001b[38;5;28mself\u001b[39m\u001b[38;5;241m.\u001b[39mcommand_header \u001b[38;5;241m+\u001b[39m\\\n\u001b[1;32m   1318\u001b[0m     args_command \u001b[38;5;241m+\u001b[39m\\\n\u001b[1;32m   1319\u001b[0m     proto\u001b[38;5;241m.\u001b[39mEND_COMMAND_PART\n\u001b[1;32m   1321\u001b[0m answer \u001b[38;5;241m=\u001b[39m \u001b[38;5;28mself\u001b[39m\u001b[38;5;241m.\u001b[39mgateway_client\u001b[38;5;241m.\u001b[39msend_command(command)\n\u001b[0;32m-> 1322\u001b[0m return_value \u001b[38;5;241m=\u001b[39m \u001b[43mget_return_value\u001b[49m\u001b[43m(\u001b[49m\n\u001b[1;32m   1323\u001b[0m \u001b[43m    \u001b[49m\u001b[43manswer\u001b[49m\u001b[43m,\u001b[49m\u001b[43m \u001b[49m\u001b[38;5;28;43mself\u001b[39;49m\u001b[38;5;241;43m.\u001b[39;49m\u001b[43mgateway_client\u001b[49m\u001b[43m,\u001b[49m\u001b[43m \u001b[49m\u001b[38;5;28;43mself\u001b[39;49m\u001b[38;5;241;43m.\u001b[39;49m\u001b[43mtarget_id\u001b[49m\u001b[43m,\u001b[49m\u001b[43m \u001b[49m\u001b[38;5;28;43mself\u001b[39;49m\u001b[38;5;241;43m.\u001b[39;49m\u001b[43mname\u001b[49m\u001b[43m)\u001b[49m\n\u001b[1;32m   1325\u001b[0m \u001b[38;5;28;01mfor\u001b[39;00m temp_arg \u001b[38;5;129;01min\u001b[39;00m temp_args:\n\u001b[1;32m   1326\u001b[0m     \u001b[38;5;28;01mif\u001b[39;00m \u001b[38;5;28mhasattr\u001b[39m(temp_arg, \u001b[38;5;124m\"\u001b[39m\u001b[38;5;124m_detach\u001b[39m\u001b[38;5;124m\"\u001b[39m):\n",
      "File \u001b[0;32m/usr/local/python/3.12.1/lib/python3.12/site-packages/pyspark/errors/exceptions/captured.py:185\u001b[0m, in \u001b[0;36mcapture_sql_exception.<locals>.deco\u001b[0;34m(*a, **kw)\u001b[0m\n\u001b[1;32m    181\u001b[0m converted \u001b[38;5;241m=\u001b[39m convert_exception(e\u001b[38;5;241m.\u001b[39mjava_exception)\n\u001b[1;32m    182\u001b[0m \u001b[38;5;28;01mif\u001b[39;00m \u001b[38;5;129;01mnot\u001b[39;00m \u001b[38;5;28misinstance\u001b[39m(converted, UnknownException):\n\u001b[1;32m    183\u001b[0m     \u001b[38;5;66;03m# Hide where the exception came from that shows a non-Pythonic\u001b[39;00m\n\u001b[1;32m    184\u001b[0m     \u001b[38;5;66;03m# JVM exception message.\u001b[39;00m\n\u001b[0;32m--> 185\u001b[0m     \u001b[38;5;28;01mraise\u001b[39;00m converted \u001b[38;5;28;01mfrom\u001b[39;00m \u001b[38;5;28;01mNone\u001b[39;00m\n\u001b[1;32m    186\u001b[0m \u001b[38;5;28;01melse\u001b[39;00m:\n\u001b[1;32m    187\u001b[0m     \u001b[38;5;28;01mraise\u001b[39;00m\n",
      "\u001b[0;31mAnalysisException\u001b[0m: [UNRESOLVED_COLUMN.WITH_SUGGESTION] A column or function parameter with name `created_at` cannot be resolved. Did you mean one of the following? [`rating`, `issue_created_at`, `id`, `latitude`, `reporter_name`].;\n'Project [id#79L, reporter_name#97, issue_created_at#115, issue_updated_at#133, issue_status#151, issue_summary#169, issue_description#187, latitude#205, longitude#223, issue_url#451, url#259, reporter_role#278, organization#296, title#314, url#260, is_private#332, rating#350L, to_timestamp('created_at, None, TimestampType, Some(Etc/UTC), false) AS created_at#469]\n+- Project [id#79L, reporter_name#97, issue_created_at#115, issue_updated_at#133, issue_status#151, issue_summary#169, issue_description#187, latitude#205, longitude#223, issue_address#241 AS issue_url#451, url#259, reporter_role#278, organization#296, title#314, url#260, is_private#332, rating#350L]\n   +- Project [id#79L, reporter_name#97, issue_created_at#115, issue_updated_at#133, issue_status#151, issue_summary#169, issue_description#187, latitude#205, longitude#223, issue_address#241, url#259, reporter_role#278, organization#296, title#314, url#260, is_private#332, rating#22L AS rating#350L]\n      +- Project [id#79L, reporter_name#97, issue_created_at#115, issue_updated_at#133, issue_status#151, issue_summary#169, issue_description#187, latitude#205, longitude#223, issue_address#241, url#259, reporter_role#278, organization#296, title#314, url#260, private_visibility#21 AS is_private#332, rating#22L]\n         +- Project [id#79L, reporter_name#97, issue_created_at#115, issue_updated_at#133, issue_status#151, issue_summary#169, issue_description#187, latitude#205, longitude#223, issue_address#241, url#259, reporter_role#278, organization#296, title#59 AS title#314, url#260, private_visibility#21, rating#22L]\n            +- Project [id#79L, reporter_name#97, issue_created_at#115, issue_updated_at#133, issue_status#151, issue_summary#169, issue_description#187, latitude#205, longitude#223, issue_address#241, url#259, reporter_role#278, organization#58 AS organization#296, title#59, url#260, private_visibility#21, rating#22L]\n               +- Project [id#79L, reporter_name#97, issue_created_at#115, issue_updated_at#133, issue_status#151, issue_summary#169, issue_description#187, latitude#205, longitude#223, issue_address#241, url#259, role#57 AS reporter_role#278, organization#58, title#59, url#260, private_visibility#21, rating#22L]\n                  +- Project [id#79L, reporter_name#97, issue_created_at#115, issue_updated_at#133, issue_status#151, issue_summary#169, issue_description#187, latitude#205, longitude#223, issue_address#241, url#31 AS url#259, role#57, organization#58, title#59, url#60 AS url#260, private_visibility#21, rating#22L]\n                     +- Project [id#79L, reporter_name#97, issue_created_at#115, issue_updated_at#133, issue_status#151, issue_summary#169, issue_description#187, latitude#205, longitude#223, address#9 AS issue_address#241, url#31, role#57, organization#58, title#59, url#60, private_visibility#21, rating#22L]\n                        +- Project [id#79L, reporter_name#97, issue_created_at#115, issue_updated_at#133, issue_status#151, issue_summary#169, issue_description#187, latitude#205, lng#18 AS longitude#223, address#9, url#31, role#57, organization#58, title#59, url#60, private_visibility#21, rating#22L]\n                           +- Project [id#79L, reporter_name#97, issue_created_at#115, issue_updated_at#133, issue_status#151, issue_summary#169, issue_description#187, lat#17 AS latitude#205, lng#18, address#9, url#31, role#57, organization#58, title#59, url#60, private_visibility#21, rating#22L]\n                              +- Project [id#79L, reporter_name#97, issue_created_at#115, issue_updated_at#133, issue_status#151, issue_summary#169, description#13 AS issue_description#187, lat#17, lng#18, address#9, url#31, role#57, organization#58, title#59, url#60, private_visibility#21, rating#22L]\n                                 +- Project [id#79L, reporter_name#97, issue_created_at#115, issue_updated_at#133, issue_status#151, summary#28 AS issue_summary#169, description#13, lat#17, lng#18, address#9, url#31, role#57, organization#58, title#59, url#60, private_visibility#21, rating#22L]\n                                    +- Project [id#79L, reporter_name#97, issue_created_at#115, issue_updated_at#133, status#27 AS issue_status#151, summary#28, description#13, lat#17, lng#18, address#9, url#31, role#57, organization#58, title#59, url#60, private_visibility#21, rating#22L]\n                                       +- Project [id#79L, reporter_name#97, issue_created_at#115, updated_at#30 AS issue_updated_at#133, status#27, summary#28, description#13, lat#17, lng#18, address#9, url#31, role#57, organization#58, title#59, url#60, private_visibility#21, rating#22L]\n                                          +- Project [id#79L, reporter_name#97, created_at#12 AS issue_created_at#115, updated_at#30, status#27, summary#28, description#13, lat#17, lng#18, address#9, url#31, role#57, organization#58, title#59, url#60, private_visibility#21, rating#22L]\n                                             +- Project [id#79L, name#56 AS reporter_name#97, created_at#12, updated_at#30, status#27, summary#28, description#13, lat#17, lng#18, address#9, url#31, role#57, organization#58, title#59, url#60, private_visibility#21, rating#22L]\n                                                +- Project [id#16L AS id#79L, name#56, created_at#12, updated_at#30, status#27, summary#28, description#13, lat#17, lng#18, address#9, url#31, role#57, organization#58, title#59, url#60, private_visibility#21, rating#22L]\n                                                   +- Project [id#16L, reporter#24.name AS name#56, created_at#12, updated_at#30, status#27, summary#28, description#13, lat#17, lng#18, address#9, url#31, reporter#24.role AS role#57, request_type#25.organization AS organization#58, request_type#25.title AS title#59, request_type#25.url AS url#60, private_visibility#21, rating#22L]\n                                                      +- Relation [acknowledged_at#8,address#9,closed_at#10,comment_url#11,created_at#12,description#13,flag_url#14,html_url#15,id#16L,lat#17,lng#18,media#19,point#20,private_visibility#21,rating#22L,reopened_at#23,reporter#24,request_type#25,shortened_url#26,status#27,summary#28,transitions#29,updated_at#30,url#31] json\n"
     ]
    },
    {
     "name": "stderr",
     "output_type": "stream",
     "text": [
      "24/08/30 22:55:03 WARN GarbageCollectionMetrics: To enable non-built-in garbage collector(s) List(G1 Concurrent GC), users should configure it(them) to spark.eventLog.gcMetrics.youngGenerationGarbageCollectors or spark.eventLog.gcMetrics.oldGenerationGarbageCollectors\n"
     ]
    }
   ],
   "source": [
    "df2 = df1.withColumnRenamed(df1.columns[9], \"issue_url\")\n",
    "df2.printSchema()\n",
    "df2 = convert_data_types(df2)\n",
    "df2.show(1)"
   ]
  },
  {
   "cell_type": "code",
   "execution_count": null,
   "metadata": {},
   "outputs": [
    {
     "name": "stdout",
     "output_type": "stream",
     "text": [
      "root\n",
      " |-- id: long (nullable = true)\n",
      " |-- name: string (nullable = true)\n",
      " |-- created_at: timestamp (nullable = true)\n",
      " |-- updated_at: timestamp (nullable = true)\n",
      " |-- status: string (nullable = true)\n",
      " |-- summary: string (nullable = true)\n",
      " |-- description: string (nullable = true)\n",
      " |-- lat: double (nullable = true)\n",
      " |-- lng: double (nullable = true)\n",
      " |-- issue_url: string (nullable = true)\n",
      " |-- reporter_url: string (nullable = true)\n",
      " |-- role: string (nullable = true)\n",
      " |-- organization: string (nullable = true)\n",
      " |-- title: string (nullable = true)\n",
      " |-- reporter_url: string (nullable = true)\n",
      " |-- private_visibility: boolean (nullable = true)\n",
      " |-- rating: long (nullable = true)\n",
      "\n"
     ]
    }
   ],
   "source": [
    "df2.printSchema()\n",
    "from pyspark.sql.functions import col, isnan, when, count"
   ]
  },
  {
   "cell_type": "code",
   "execution_count": null,
   "metadata": {},
   "outputs": [],
   "source": [
    "df = df2.drop(\"reporter_url\")"
   ]
  },
  {
   "cell_type": "code",
   "execution_count": null,
   "metadata": {},
   "outputs": [
    {
     "name": "stdout",
     "output_type": "stream",
     "text": [
      "root\n",
      " |-- id: long (nullable = true)\n",
      " |-- name: string (nullable = true)\n",
      " |-- created_at: timestamp (nullable = true)\n",
      " |-- updated_at: timestamp (nullable = true)\n",
      " |-- status: string (nullable = true)\n",
      " |-- summary: string (nullable = true)\n",
      " |-- description: string (nullable = true)\n",
      " |-- lat: double (nullable = true)\n",
      " |-- lng: double (nullable = true)\n",
      " |-- issue_url: string (nullable = true)\n",
      " |-- role: string (nullable = true)\n",
      " |-- organization: string (nullable = true)\n",
      " |-- title: string (nullable = true)\n",
      " |-- private_visibility: boolean (nullable = true)\n",
      " |-- rating: long (nullable = true)\n",
      "\n"
     ]
    }
   ],
   "source": [
    "df.printSchema()"
   ]
  },
  {
   "cell_type": "code",
   "execution_count": null,
   "metadata": {},
   "outputs": [
    {
     "name": "stdout",
     "output_type": "stream",
     "text": [
      "+--------+-------------------+-------------------+-------------------+------+--------------------+--------------------+----------------+-----------------+--------------------+-----------------+--------------------+--------------------+------------------+------+\n",
      "|      id|               name|         created_at|         updated_at|status|             summary|         description|             lat|              lng|           issue_url|             role|        organization|               title|private_visibility|rating|\n",
      "+--------+-------------------+-------------------+-------------------+------+--------------------+--------------------+----------------+-----------------+--------------------+-----------------+--------------------+--------------------+------------------+------+\n",
      "|17398644|            311_MDP|2024-08-29 15:56:08|2024-08-29 15:56:09|  Open|Inoperable Vehicl...|citizen states th...|33.4828359940456|-86.8150319842692|604 22nd Ave S Bi...|Verified Official|Birmingham Police...|Inoperable Vehicl...|             false|     1|\n",
      "|17398642|Hoover, AL Neighbor|2024-08-29 15:56:06|2024-08-29 15:56:17|  Open|Limbs/Debris and ...|2 bags of leaves ...|33.3680980073801|-86.7697550387912|4652 S Lakeridge ...|            Guest|          Hoover, AL|Limbs/Debris and ...|             false|     1|\n",
      "+--------+-------------------+-------------------+-------------------+------+--------------------+--------------------+----------------+-----------------+--------------------+-----------------+--------------------+--------------------+------------------+------+\n",
      "only showing top 2 rows\n",
      "\n"
     ]
    }
   ],
   "source": [
    "df.show(2)"
   ]
  },
  {
   "cell_type": "code",
   "execution_count": null,
   "metadata": {},
   "outputs": [],
   "source": [
    "from pyspark.sql.functions import sum"
   ]
  },
  {
   "cell_type": "code",
   "execution_count": null,
   "metadata": {},
   "outputs": [
    {
     "name": "stdout",
     "output_type": "stream",
     "text": [
      "+---+----+----------+----------+------+-------+-----------+---+---+---------+----+------------+-----+------------------+------+\n",
      "| id|name|created_at|updated_at|status|summary|description|lat|lng|issue_url|role|organization|title|private_visibility|rating|\n",
      "+---+----+----------+----------+------+-------+-----------+---+---+---------+----+------------+-----+------------------+------+\n",
      "|  0|   0|         0|         0|     0|      0|          0|  0|  0|        0|   0|           0|    0|                 0|     0|\n",
      "+---+----+----------+----------+------+-------+-----------+---+---+---------+----+------------+-----+------------------+------+\n",
      "\n"
     ]
    }
   ],
   "source": [
    "missing_values_count = df.select([sum(col(c).isNull().cast(\"int\")).alias(c) for c in df.columns])\n",
    "missing_values_count.show()"
   ]
  },
  {
   "cell_type": "code",
   "execution_count": null,
   "metadata": {},
   "outputs": [
    {
     "ename": "AnalysisException",
     "evalue": "[DATATYPE_MISMATCH.UNEXPECTED_INPUT_TYPE] Cannot resolve \"element_at(summary, summary)\" due to data type mismatch: Parameter 1 requires the (\"ARRAY\" or \"MAP\") type, however \"summary\" has the type \"STRING\".;\n'Project [summary#4995, element_at(id#4710, summary#4995, None, false) AS id#4766, element_at(name#4715, summary#4995, None, false) AS name#4767, element_at(status#4720, summary#4995, None, false) AS status#4768, element_at(summary#4995, summary#4995, None, false) AS summary#4769, element_at(description#4730, summary#4995, None, false) AS description#4770, element_at(lat#4735, summary#4995, None, false) AS lat#4771, element_at(lng#4740, summary#4995, None, false) AS lng#4772, element_at(issue_url#4745, summary#4995, None, false) AS issue_url#4773, element_at(role#4750, summary#4995, None, false) AS role#4774, element_at(organization#4755, summary#4995, None, false) AS organization#4775, element_at(title#4760, summary#4995, None, false) AS title#4776, element_at(rating#4765, summary#4995, None, false) AS rating#4777]\n+- Project [id#4710, name#4715, status#4720, summary#4995, description#4730, lat#4735, lng#4740, issue_url#4745, role#4750, organization#4755, title#4760, rating#4765]\n   +- Generate explode([count,mean,stddev,min,max]), false, [summary#4995]\n      +- Aggregate [map(cast(count as string), cast(count(id#3229L) as string), cast(mean as string), cast(avg(id#3229L) as string), cast(stddev as string), cast(stddev(cast(id#3229L as double)) as string), cast(min as string), cast(min(id#3229L) as string), cast(max as string), cast(max(id#3229L) as string)) AS id#4710, map(cast(count as string), cast(count(name#3269) as string), cast(mean as string), cast(avg(try_cast(name#3269 as double)) as string), cast(stddev as string), cast(stddev(try_cast(name#3269 as double)) as string), cast(min as string), cast(min(name#3269) as string), cast(max as string), cast(max(name#3269) as string)) AS name#4715, map(cast(count as string), cast(count(status#3240) as string), cast(mean as string), cast(avg(try_cast(status#3240 as double)) as string), cast(stddev as string), cast(stddev(try_cast(status#3240 as double)) as string), cast(min as string), cast(min(status#3240) as string), cast(max as string), cast(max(status#3240) as string)) AS status#4720, map(cast(count as string), cast(count(summary#3241) as string), cast(mean as string), cast(avg(try_cast(summary#3241 as double)) as string), cast(stddev as string), cast(stddev(try_cast(summary#3241 as double)) as string), cast(min as string), cast(min(summary#3241) as string), cast(max as string), cast(max(summary#3241) as string)) AS summary#4725, map(cast(count as string), cast(count(description#3226) as string), cast(mean as string), cast(avg(try_cast(description#3226 as double)) as string), cast(stddev as string), cast(stddev(try_cast(description#3226 as double)) as string), cast(min as string), cast(min(description#3226) as string), cast(max as string), cast(max(description#3226) as string)) AS description#4730, map(cast(count as string), cast(count(lat#3230) as string), cast(mean as string), cast(avg(lat#3230) as string), cast(stddev as string), cast(stddev(lat#3230) as string), cast(min as string), cast(min(lat#3230) as string), cast(max as string), cast(max(lat#3230) as string)) AS lat#4735, map(cast(count as string), cast(count(lng#3231) as string), cast(mean as string), cast(avg(lng#3231) as string), cast(stddev as string), cast(stddev(lng#3231) as string), cast(min as string), cast(min(lng#3231) as string), cast(max as string), cast(max(lng#3231) as string)) AS lng#4740, map(cast(count as string), cast(count(issue_url#4239) as string), cast(mean as string), cast(avg(try_cast(issue_url#4239 as double)) as string), cast(stddev as string), cast(stddev(try_cast(issue_url#4239 as double)) as string), cast(min as string), cast(min(issue_url#4239) as string), cast(max as string), cast(max(issue_url#4239) as string)) AS issue_url#4745, map(cast(count as string), cast(count(role#3270) as string), cast(mean as string), cast(avg(try_cast(role#3270 as double)) as string), cast(stddev as string), cast(stddev(try_cast(role#3270 as double)) as string), cast(min as string), cast(min(role#3270) as string), cast(max as string), cast(max(role#3270) as string)) AS role#4750, map(cast(count as string), cast(count(organization#3271) as string), cast(mean as string), cast(avg(try_cast(organization#3271 as double)) as string), cast(stddev as string), cast(stddev(try_cast(organization#3271 as double)) as string), cast(min as string), cast(min(organization#3271) as string), cast(max as string), cast(max(organization#3271) as string)) AS organization#4755, map(cast(count as string), cast(count(title#3272) as string), cast(mean as string), cast(avg(try_cast(title#3272 as double)) as string), cast(stddev as string), cast(stddev(try_cast(title#3272 as double)) as string), cast(min as string), cast(min(title#3272) as string), cast(max as string), cast(max(title#3272) as string)) AS title#4760, map(cast(count as string), cast(count(rating#3235L) as string), cast(mean as string), cast(avg(rating#3235L) as string), cast(stddev as string), cast(stddev(cast(rating#3235L as double)) as string), cast(min as string), cast(min(rating#3235L) as string), cast(max as string), cast(max(rating#3235L) as string)) AS rating#4765]\n         +- Project [id#3229L, name#3269, created_at#4257, updated_at#4275, status#3240, summary#3241, description#3226, lat#3230, lng#3231, issue_url#4239, role#3270, organization#3271, title#3272, private_visibility#3234, rating#3235L]\n            +- Project [id#3229L, name#3269, created_at#4257, to_timestamp(updated_at#3243, None, TimestampType, Some(Etc/UTC), false) AS updated_at#4275, status#3240, summary#3241, description#3226, lat#3230, lng#3231, issue_url#4239, reporter_url#3953, role#3270, organization#3271, title#3272, reporter_url#3954, private_visibility#3234, rating#3235L]\n               +- Project [id#3229L, name#3269, to_timestamp(created_at#3225, None, TimestampType, Some(Etc/UTC), false) AS created_at#4257, updated_at#3243, status#3240, summary#3241, description#3226, lat#3230, lng#3231, issue_url#4239, reporter_url#3953, role#3270, organization#3271, title#3272, reporter_url#3954, private_visibility#3234, rating#3235L]\n                  +- Project [id#3229L, name#3269, created_at#3225, updated_at#3243, status#3240, summary#3241, description#3226, lat#3230, lng#3231, address#3222 AS issue_url#4239, reporter_url#3953, role#3270, organization#3271, title#3272, reporter_url#3954, private_visibility#3234, rating#3235L]\n                     +- Project [id#3229L, name#3269, created_at#3225, updated_at#3243, status#3240, summary#3241, description#3226, lat#3230, lng#3231, address#3222, url#3244 AS reporter_url#3953, role#3270, organization#3271, title#3272, url#3273 AS reporter_url#3954, private_visibility#3234, rating#3235L]\n                        +- Project [id#3229L, reporter#3237.name AS name#3269, created_at#3225, updated_at#3243, status#3240, summary#3241, description#3226, lat#3230, lng#3231, address#3222, url#3244, reporter#3237.role AS role#3270, request_type#3238.organization AS organization#3271, request_type#3238.title AS title#3272, request_type#3238.url AS url#3273, private_visibility#3234, rating#3235L]\n                           +- Relation [acknowledged_at#3221,address#3222,closed_at#3223,comment_url#3224,created_at#3225,description#3226,flag_url#3227,html_url#3228,id#3229L,lat#3230,lng#3231,media#3232,point#3233,private_visibility#3234,rating#3235L,reopened_at#3236,reporter#3237,request_type#3238,shortened_url#3239,status#3240,summary#3241,transitions#3242,updated_at#3243,url#3244] json\n",
     "output_type": "error",
     "traceback": [
      "\u001b[0;31m---------------------------------------------------------------------------\u001b[0m",
      "\u001b[0;31mAnalysisException\u001b[0m                         Traceback (most recent call last)",
      "Cell \u001b[0;32mIn[116], line 1\u001b[0m\n\u001b[0;32m----> 1\u001b[0m \u001b[43mdf\u001b[49m\u001b[38;5;241;43m.\u001b[39;49m\u001b[43mdescribe\u001b[49m\u001b[43m(\u001b[49m\u001b[43m)\u001b[49m\u001b[38;5;241m.\u001b[39mshow()\n",
      "File \u001b[0;32m/usr/local/python/3.12.1/lib/python3.12/site-packages/pyspark/sql/dataframe.py:2856\u001b[0m, in \u001b[0;36mDataFrame.describe\u001b[0;34m(self, *cols)\u001b[0m\n\u001b[1;32m   2854\u001b[0m \u001b[38;5;28;01mif\u001b[39;00m \u001b[38;5;28mlen\u001b[39m(cols) \u001b[38;5;241m==\u001b[39m \u001b[38;5;241m1\u001b[39m \u001b[38;5;129;01mand\u001b[39;00m \u001b[38;5;28misinstance\u001b[39m(cols[\u001b[38;5;241m0\u001b[39m], \u001b[38;5;28mlist\u001b[39m):\n\u001b[1;32m   2855\u001b[0m     cols \u001b[38;5;241m=\u001b[39m cols[\u001b[38;5;241m0\u001b[39m]  \u001b[38;5;66;03m# type: ignore[assignment]\u001b[39;00m\n\u001b[0;32m-> 2856\u001b[0m jdf \u001b[38;5;241m=\u001b[39m \u001b[38;5;28;43mself\u001b[39;49m\u001b[38;5;241;43m.\u001b[39;49m\u001b[43m_jdf\u001b[49m\u001b[38;5;241;43m.\u001b[39;49m\u001b[43mdescribe\u001b[49m\u001b[43m(\u001b[49m\u001b[38;5;28;43mself\u001b[39;49m\u001b[38;5;241;43m.\u001b[39;49m\u001b[43m_jseq\u001b[49m\u001b[43m(\u001b[49m\u001b[43mcols\u001b[49m\u001b[43m)\u001b[49m\u001b[43m)\u001b[49m\n\u001b[1;32m   2857\u001b[0m \u001b[38;5;28;01mreturn\u001b[39;00m DataFrame(jdf, \u001b[38;5;28mself\u001b[39m\u001b[38;5;241m.\u001b[39msparkSession)\n",
      "File \u001b[0;32m/usr/local/python/3.12.1/lib/python3.12/site-packages/py4j/java_gateway.py:1322\u001b[0m, in \u001b[0;36mJavaMember.__call__\u001b[0;34m(self, *args)\u001b[0m\n\u001b[1;32m   1316\u001b[0m command \u001b[38;5;241m=\u001b[39m proto\u001b[38;5;241m.\u001b[39mCALL_COMMAND_NAME \u001b[38;5;241m+\u001b[39m\\\n\u001b[1;32m   1317\u001b[0m     \u001b[38;5;28mself\u001b[39m\u001b[38;5;241m.\u001b[39mcommand_header \u001b[38;5;241m+\u001b[39m\\\n\u001b[1;32m   1318\u001b[0m     args_command \u001b[38;5;241m+\u001b[39m\\\n\u001b[1;32m   1319\u001b[0m     proto\u001b[38;5;241m.\u001b[39mEND_COMMAND_PART\n\u001b[1;32m   1321\u001b[0m answer \u001b[38;5;241m=\u001b[39m \u001b[38;5;28mself\u001b[39m\u001b[38;5;241m.\u001b[39mgateway_client\u001b[38;5;241m.\u001b[39msend_command(command)\n\u001b[0;32m-> 1322\u001b[0m return_value \u001b[38;5;241m=\u001b[39m \u001b[43mget_return_value\u001b[49m\u001b[43m(\u001b[49m\n\u001b[1;32m   1323\u001b[0m \u001b[43m    \u001b[49m\u001b[43manswer\u001b[49m\u001b[43m,\u001b[49m\u001b[43m \u001b[49m\u001b[38;5;28;43mself\u001b[39;49m\u001b[38;5;241;43m.\u001b[39;49m\u001b[43mgateway_client\u001b[49m\u001b[43m,\u001b[49m\u001b[43m \u001b[49m\u001b[38;5;28;43mself\u001b[39;49m\u001b[38;5;241;43m.\u001b[39;49m\u001b[43mtarget_id\u001b[49m\u001b[43m,\u001b[49m\u001b[43m \u001b[49m\u001b[38;5;28;43mself\u001b[39;49m\u001b[38;5;241;43m.\u001b[39;49m\u001b[43mname\u001b[49m\u001b[43m)\u001b[49m\n\u001b[1;32m   1325\u001b[0m \u001b[38;5;28;01mfor\u001b[39;00m temp_arg \u001b[38;5;129;01min\u001b[39;00m temp_args:\n\u001b[1;32m   1326\u001b[0m     \u001b[38;5;28;01mif\u001b[39;00m \u001b[38;5;28mhasattr\u001b[39m(temp_arg, \u001b[38;5;124m\"\u001b[39m\u001b[38;5;124m_detach\u001b[39m\u001b[38;5;124m\"\u001b[39m):\n",
      "File \u001b[0;32m/usr/local/python/3.12.1/lib/python3.12/site-packages/pyspark/errors/exceptions/captured.py:185\u001b[0m, in \u001b[0;36mcapture_sql_exception.<locals>.deco\u001b[0;34m(*a, **kw)\u001b[0m\n\u001b[1;32m    181\u001b[0m converted \u001b[38;5;241m=\u001b[39m convert_exception(e\u001b[38;5;241m.\u001b[39mjava_exception)\n\u001b[1;32m    182\u001b[0m \u001b[38;5;28;01mif\u001b[39;00m \u001b[38;5;129;01mnot\u001b[39;00m \u001b[38;5;28misinstance\u001b[39m(converted, UnknownException):\n\u001b[1;32m    183\u001b[0m     \u001b[38;5;66;03m# Hide where the exception came from that shows a non-Pythonic\u001b[39;00m\n\u001b[1;32m    184\u001b[0m     \u001b[38;5;66;03m# JVM exception message.\u001b[39;00m\n\u001b[0;32m--> 185\u001b[0m     \u001b[38;5;28;01mraise\u001b[39;00m converted \u001b[38;5;28;01mfrom\u001b[39;00m \u001b[38;5;28;01mNone\u001b[39;00m\n\u001b[1;32m    186\u001b[0m \u001b[38;5;28;01melse\u001b[39;00m:\n\u001b[1;32m    187\u001b[0m     \u001b[38;5;28;01mraise\u001b[39;00m\n",
      "\u001b[0;31mAnalysisException\u001b[0m: [DATATYPE_MISMATCH.UNEXPECTED_INPUT_TYPE] Cannot resolve \"element_at(summary, summary)\" due to data type mismatch: Parameter 1 requires the (\"ARRAY\" or \"MAP\") type, however \"summary\" has the type \"STRING\".;\n'Project [summary#4995, element_at(id#4710, summary#4995, None, false) AS id#4766, element_at(name#4715, summary#4995, None, false) AS name#4767, element_at(status#4720, summary#4995, None, false) AS status#4768, element_at(summary#4995, summary#4995, None, false) AS summary#4769, element_at(description#4730, summary#4995, None, false) AS description#4770, element_at(lat#4735, summary#4995, None, false) AS lat#4771, element_at(lng#4740, summary#4995, None, false) AS lng#4772, element_at(issue_url#4745, summary#4995, None, false) AS issue_url#4773, element_at(role#4750, summary#4995, None, false) AS role#4774, element_at(organization#4755, summary#4995, None, false) AS organization#4775, element_at(title#4760, summary#4995, None, false) AS title#4776, element_at(rating#4765, summary#4995, None, false) AS rating#4777]\n+- Project [id#4710, name#4715, status#4720, summary#4995, description#4730, lat#4735, lng#4740, issue_url#4745, role#4750, organization#4755, title#4760, rating#4765]\n   +- Generate explode([count,mean,stddev,min,max]), false, [summary#4995]\n      +- Aggregate [map(cast(count as string), cast(count(id#3229L) as string), cast(mean as string), cast(avg(id#3229L) as string), cast(stddev as string), cast(stddev(cast(id#3229L as double)) as string), cast(min as string), cast(min(id#3229L) as string), cast(max as string), cast(max(id#3229L) as string)) AS id#4710, map(cast(count as string), cast(count(name#3269) as string), cast(mean as string), cast(avg(try_cast(name#3269 as double)) as string), cast(stddev as string), cast(stddev(try_cast(name#3269 as double)) as string), cast(min as string), cast(min(name#3269) as string), cast(max as string), cast(max(name#3269) as string)) AS name#4715, map(cast(count as string), cast(count(status#3240) as string), cast(mean as string), cast(avg(try_cast(status#3240 as double)) as string), cast(stddev as string), cast(stddev(try_cast(status#3240 as double)) as string), cast(min as string), cast(min(status#3240) as string), cast(max as string), cast(max(status#3240) as string)) AS status#4720, map(cast(count as string), cast(count(summary#3241) as string), cast(mean as string), cast(avg(try_cast(summary#3241 as double)) as string), cast(stddev as string), cast(stddev(try_cast(summary#3241 as double)) as string), cast(min as string), cast(min(summary#3241) as string), cast(max as string), cast(max(summary#3241) as string)) AS summary#4725, map(cast(count as string), cast(count(description#3226) as string), cast(mean as string), cast(avg(try_cast(description#3226 as double)) as string), cast(stddev as string), cast(stddev(try_cast(description#3226 as double)) as string), cast(min as string), cast(min(description#3226) as string), cast(max as string), cast(max(description#3226) as string)) AS description#4730, map(cast(count as string), cast(count(lat#3230) as string), cast(mean as string), cast(avg(lat#3230) as string), cast(stddev as string), cast(stddev(lat#3230) as string), cast(min as string), cast(min(lat#3230) as string), cast(max as string), cast(max(lat#3230) as string)) AS lat#4735, map(cast(count as string), cast(count(lng#3231) as string), cast(mean as string), cast(avg(lng#3231) as string), cast(stddev as string), cast(stddev(lng#3231) as string), cast(min as string), cast(min(lng#3231) as string), cast(max as string), cast(max(lng#3231) as string)) AS lng#4740, map(cast(count as string), cast(count(issue_url#4239) as string), cast(mean as string), cast(avg(try_cast(issue_url#4239 as double)) as string), cast(stddev as string), cast(stddev(try_cast(issue_url#4239 as double)) as string), cast(min as string), cast(min(issue_url#4239) as string), cast(max as string), cast(max(issue_url#4239) as string)) AS issue_url#4745, map(cast(count as string), cast(count(role#3270) as string), cast(mean as string), cast(avg(try_cast(role#3270 as double)) as string), cast(stddev as string), cast(stddev(try_cast(role#3270 as double)) as string), cast(min as string), cast(min(role#3270) as string), cast(max as string), cast(max(role#3270) as string)) AS role#4750, map(cast(count as string), cast(count(organization#3271) as string), cast(mean as string), cast(avg(try_cast(organization#3271 as double)) as string), cast(stddev as string), cast(stddev(try_cast(organization#3271 as double)) as string), cast(min as string), cast(min(organization#3271) as string), cast(max as string), cast(max(organization#3271) as string)) AS organization#4755, map(cast(count as string), cast(count(title#3272) as string), cast(mean as string), cast(avg(try_cast(title#3272 as double)) as string), cast(stddev as string), cast(stddev(try_cast(title#3272 as double)) as string), cast(min as string), cast(min(title#3272) as string), cast(max as string), cast(max(title#3272) as string)) AS title#4760, map(cast(count as string), cast(count(rating#3235L) as string), cast(mean as string), cast(avg(rating#3235L) as string), cast(stddev as string), cast(stddev(cast(rating#3235L as double)) as string), cast(min as string), cast(min(rating#3235L) as string), cast(max as string), cast(max(rating#3235L) as string)) AS rating#4765]\n         +- Project [id#3229L, name#3269, created_at#4257, updated_at#4275, status#3240, summary#3241, description#3226, lat#3230, lng#3231, issue_url#4239, role#3270, organization#3271, title#3272, private_visibility#3234, rating#3235L]\n            +- Project [id#3229L, name#3269, created_at#4257, to_timestamp(updated_at#3243, None, TimestampType, Some(Etc/UTC), false) AS updated_at#4275, status#3240, summary#3241, description#3226, lat#3230, lng#3231, issue_url#4239, reporter_url#3953, role#3270, organization#3271, title#3272, reporter_url#3954, private_visibility#3234, rating#3235L]\n               +- Project [id#3229L, name#3269, to_timestamp(created_at#3225, None, TimestampType, Some(Etc/UTC), false) AS created_at#4257, updated_at#3243, status#3240, summary#3241, description#3226, lat#3230, lng#3231, issue_url#4239, reporter_url#3953, role#3270, organization#3271, title#3272, reporter_url#3954, private_visibility#3234, rating#3235L]\n                  +- Project [id#3229L, name#3269, created_at#3225, updated_at#3243, status#3240, summary#3241, description#3226, lat#3230, lng#3231, address#3222 AS issue_url#4239, reporter_url#3953, role#3270, organization#3271, title#3272, reporter_url#3954, private_visibility#3234, rating#3235L]\n                     +- Project [id#3229L, name#3269, created_at#3225, updated_at#3243, status#3240, summary#3241, description#3226, lat#3230, lng#3231, address#3222, url#3244 AS reporter_url#3953, role#3270, organization#3271, title#3272, url#3273 AS reporter_url#3954, private_visibility#3234, rating#3235L]\n                        +- Project [id#3229L, reporter#3237.name AS name#3269, created_at#3225, updated_at#3243, status#3240, summary#3241, description#3226, lat#3230, lng#3231, address#3222, url#3244, reporter#3237.role AS role#3270, request_type#3238.organization AS organization#3271, request_type#3238.title AS title#3272, request_type#3238.url AS url#3273, private_visibility#3234, rating#3235L]\n                           +- Relation [acknowledged_at#3221,address#3222,closed_at#3223,comment_url#3224,created_at#3225,description#3226,flag_url#3227,html_url#3228,id#3229L,lat#3230,lng#3231,media#3232,point#3233,private_visibility#3234,rating#3235L,reopened_at#3236,reporter#3237,request_type#3238,shortened_url#3239,status#3240,summary#3241,transitions#3242,updated_at#3243,url#3244] json\n"
     ]
    }
   ],
   "source": []
  },
  {
   "cell_type": "code",
   "execution_count": null,
   "metadata": {},
   "outputs": [],
   "source": []
  }
 ],
 "metadata": {
  "kernelspec": {
   "display_name": "Python 3",
   "language": "python",
   "name": "python3"
  },
  "language_info": {
   "codemirror_mode": {
    "name": "ipython",
    "version": 3
   },
   "file_extension": ".py",
   "mimetype": "text/x-python",
   "name": "python",
   "nbconvert_exporter": "python",
   "pygments_lexer": "ipython3",
   "version": "3.12.1"
  }
 },
 "nbformat": 4,
 "nbformat_minor": 2
}
